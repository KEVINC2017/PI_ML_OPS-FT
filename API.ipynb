{
 "cells": [
  {
   "cell_type": "code",
   "execution_count": 24,
   "metadata": {},
   "outputs": [],
   "source": [
    "import pandas as pd\n",
    "import operator"
   ]
  },
  {
   "cell_type": "markdown",
   "metadata": {},
   "source": [
    "## **FUNCIONES - API**\n",
    "\n",
    "**IMPORTACIONES**\n",
    "\n",
    "Se importan y leen los archivos parquet que se necesitarán para cada endpoint"
   ]
  },
  {
   "cell_type": "code",
   "execution_count": 23,
   "metadata": {},
   "outputs": [],
   "source": [
    "df_developer = pd.read_parquet(r\"Datasets\\developer\")\n",
    "df_best_developer_year = pd.read_parquet(r\"Datasets\\best_developer_year\")\n",
    "df_developer_reviews_analysis = pd.read_parquet(r\"Datasets\\developer_reviews_analysis\")\n",
    "df_user_data = pd.read_parquet(r\"Datasets\\user_data\")\n",
    "df_user_for_genre = pd.read_parquet(r\"Datasets\\user_for_genre\")\n",
    "df_recomendacion_juego = pd.read_parquet(r\"Datasets\\recomendacion_juego\")\n",
    "df_recomendacion_usuario = pd.read_parquet(r\"Datasets\\recomendacion_usuario\")\n",
    "pivot_norm = pd.read_parquet(r\"Datasets\\pivot_norm\")"
   ]
  },
  {
   "cell_type": "markdown",
   "metadata": {},
   "source": [
    "1. def developer(desarollador): Cantidad de items y porcentaje de contenido Free por año según empresa desarrolladora."
   ]
  },
  {
   "cell_type": "code",
   "execution_count": 6,
   "metadata": {},
   "outputs": [],
   "source": [
    "def developer(desarrolladora):\n",
    "    # Filtra el DataFrame para obtener las filas correspondientes a la desarrolladora\n",
    "    developer_data = df_developer[df_developer['developer'] == desarrolladora]\n",
    "\n",
    "    if developer_data.empty:\n",
    "        return None\n",
    "\n",
    "    #Se agrupa los datos por año y calcula la cantidad de items y el porcentaje de contenido Free por año\n",
    "    developer_year = []\n",
    "    for año, grupo in developer_data.groupby('year'):\n",
    "        cantidad_items = grupo['items_count'].sum()\n",
    "        contenido_free = round(grupo['free_content'].sum(),2)\n",
    "\n",
    "        developer_year.append({\"Año\": año, \"Cantidad de Items\": str(cantidad_items),\"Contenido Free\": str(contenido_free) + \" %\"})\n",
    "\n",
    "    return {'Desarrollador '+ desarrolladora : developer_year}"
   ]
  },
  {
   "cell_type": "code",
   "execution_count": 7,
   "metadata": {},
   "outputs": [
    {
     "data": {
      "text/plain": [
       "{'Desarrollador Valve': [{'Año': 1998,\n",
       "   'Cantidad de Items': '1',\n",
       "   'Contenido Free': '0.0 %'},\n",
       "  {'Año': 1999, 'Cantidad de Items': '1', 'Contenido Free': '0.0 %'},\n",
       "  {'Año': 2000, 'Cantidad de Items': '2', 'Contenido Free': '0.0 %'},\n",
       "  {'Año': 2001, 'Cantidad de Items': '1', 'Contenido Free': '0.0 %'},\n",
       "  {'Año': 2003, 'Cantidad de Items': '1', 'Contenido Free': '0.0 %'},\n",
       "  {'Año': 2004, 'Cantidad de Items': '5', 'Contenido Free': '0.0 %'},\n",
       "  {'Año': 2005, 'Cantidad de Items': '1', 'Contenido Free': '0.0 %'},\n",
       "  {'Año': 2006, 'Cantidad de Items': '2', 'Contenido Free': '0.0 %'},\n",
       "  {'Año': 2007, 'Cantidad de Items': '3', 'Contenido Free': '33.33 %'},\n",
       "  {'Año': 2008, 'Cantidad de Items': '1', 'Contenido Free': '0.0 %'},\n",
       "  {'Año': 2009, 'Cantidad de Items': '1', 'Contenido Free': '0.0 %'},\n",
       "  {'Año': 2010, 'Cantidad de Items': '2', 'Contenido Free': '50.0 %'},\n",
       "  {'Año': 2011, 'Cantidad de Items': '1', 'Contenido Free': '0.0 %'},\n",
       "  {'Año': 2012, 'Cantidad de Items': '2', 'Contenido Free': '0.0 %'},\n",
       "  {'Año': 2014, 'Cantidad de Items': '7', 'Contenido Free': '0.0 %'},\n",
       "  {'Año': 2016, 'Cantidad de Items': '1', 'Contenido Free': '100.0 %'},\n",
       "  {'Año': 2017, 'Cantidad de Items': '2', 'Contenido Free': '0.0 %'}]}"
      ]
     },
     "execution_count": 7,
     "metadata": {},
     "output_type": "execute_result"
    }
   ],
   "source": [
    "developer('Valve')"
   ]
  },
  {
   "cell_type": "markdown",
   "metadata": {},
   "source": [
    "2. def userdata(user_id): Cantidad de dinero gastado por el usuario, el porcentaje de recomendación en base a recomendaciones y cantidad de items"
   ]
  },
  {
   "cell_type": "code",
   "execution_count": 8,
   "metadata": {},
   "outputs": [],
   "source": [
    "def userdata(user_id):\n",
    "    # Filtra el df para obtener las filas segun el usuario\n",
    "    user_data = df_user_data[df_user_data['user_id'] == user_id]\n",
    "\n",
    "    if user_data.empty:\n",
    "        return None\n",
    "\n",
    "    # Se extrae el dinero gastado, el porcentaje de recomendacion y la cantidad de items del usuario\n",
    "    dinero_gastado = user_data['spent'].values[0]\n",
    "    porcentaje_recomendacion = user_data['percentage_recommend'].values[0]\n",
    "    cantidad_items = user_data['count_items'].values[0]\n",
    "\n",
    "    return {\"Usuario\": user_id, \"Dinero gastado\": str(dinero_gastado)+\" USD\", \"% de recomendación\": str(porcentaje_recomendacion) + \" %\",\"cantidad de items\": str(cantidad_items)}"
   ]
  },
  {
   "cell_type": "code",
   "execution_count": 9,
   "metadata": {},
   "outputs": [
    {
     "data": {
      "text/plain": [
       "{'Usuario': '76561198070565427',\n",
       " 'Dinero gastado': '270.74 USD',\n",
       " '% de recomendación': '80.0 %',\n",
       " 'cantidad de items': '75'}"
      ]
     },
     "execution_count": 9,
     "metadata": {},
     "output_type": "execute_result"
    }
   ],
   "source": [
    "userdata('76561198070565427')"
   ]
  },
  {
   "cell_type": "markdown",
   "metadata": {},
   "source": [
    "3. def UserForGenre(genre): Debe devolver el usuario que acumula más horas jugadas para el género dado y una lista de la acumulación de horas jugadas por año de lanzamiento."
   ]
  },
  {
   "cell_type": "code",
   "execution_count": 10,
   "metadata": {},
   "outputs": [],
   "source": [
    "def UserForGenre(genre):\n",
    "    # Filtra el df para obtener las filas segun el genero\n",
    "    user_genre_data = df_user_for_genre[df_user_for_genre['genres'] == genre]\n",
    "\n",
    "    if user_genre_data.empty:\n",
    "        return None\n",
    "    \n",
    "    # Se extrae el user_id y el playtime por año segun el genero\n",
    "    user_id = user_genre_data['user_id'].values[0]\n",
    "    playtime = list(user_genre_data['Horas_Jugadas'].values[0])\n",
    "\n",
    "    return {'Usuario con más horas jugadas para Género '+ genre: user_id, 'Horas Jugadas': playtime}"
   ]
  },
  {
   "cell_type": "code",
   "execution_count": 11,
   "metadata": {},
   "outputs": [
    {
     "data": {
      "text/plain": [
       "{'Usuario con más horas jugadas para Género Action': 'Zombiepig950',\n",
       " 'Horas Jugadas': [{'Año': 1970, 'Horas': 4966.0},\n",
       "  {'Año': 1997, 'Horas': 7.0},\n",
       "  {'Año': 2000, 'Horas': 0.0},\n",
       "  {'Año': 2002, 'Horas': 0.0},\n",
       "  {'Año': 2003, 'Horas': 519.0},\n",
       "  {'Año': 2004, 'Horas': 33.0},\n",
       "  {'Año': 2005, 'Horas': 2218.0},\n",
       "  {'Año': 2006, 'Horas': 2926.0},\n",
       "  {'Año': 2007, 'Horas': 3061.0},\n",
       "  {'Año': 2008, 'Horas': 28.0},\n",
       "  {'Año': 2009, 'Horas': 22401.0},\n",
       "  {'Año': 2010, 'Horas': 3613.0},\n",
       "  {'Año': 2011, 'Horas': 38965.0},\n",
       "  {'Año': 2012, 'Horas': 36537.11476919731},\n",
       "  {'Año': 2013, 'Horas': 19824.0},\n",
       "  {'Año': 2014, 'Horas': 6923.0},\n",
       "  {'Año': 2015, 'Horas': 6224.0},\n",
       "  {'Año': 2016, 'Horas': 1088.0},\n",
       "  {'Año': 2017, 'Horas': 436.0}]}"
      ]
     },
     "execution_count": 11,
     "metadata": {},
     "output_type": "execute_result"
    }
   ],
   "source": [
    "UserForGenre('Action')"
   ]
  },
  {
   "cell_type": "markdown",
   "metadata": {},
   "source": [
    "4. def best_developer_year( año ): Devuelve el top 3 de desarrolladores con juegos MÁS recomendados por usuarios para el año dado. (reviews.recommend = True y comentarios positivos)"
   ]
  },
  {
   "cell_type": "code",
   "execution_count": 12,
   "metadata": {},
   "outputs": [],
   "source": [
    "def best_developer_year(year):\n",
    "    # Filtra el df para obtener las filas segun el desarrollador\n",
    "    year_data = df_best_developer_year[df_best_developer_year['Año'] == year]\n",
    "\n",
    "    if year_data.empty:\n",
    "        return None\n",
    "    \n",
    "    # Se extrae los nombres de los desarrolladores en el top 3 para ese año\n",
    "    top_1 = year_data['Top 1'].values[0]\n",
    "    top_2 = year_data['Top 2'].values[0]\n",
    "    top_3 = year_data['Top 3'].values[0]\n",
    "\n",
    "    desarrolladores_top = [{'Puesto 1': top_1}, {'Puesto 2': top_2}, {'Puesto 3': top_3}]\n",
    "\n",
    "    return {'Año ' + str(year): desarrolladores_top}"
   ]
  },
  {
   "cell_type": "code",
   "execution_count": 13,
   "metadata": {},
   "outputs": [
    {
     "data": {
      "text/plain": [
       "{'Año 1970': [{'Puesto 1': 'Unknown'},\n",
       "  {'Puesto 2': 'United Front Games'},\n",
       "  {'Puesto 3': 'Futuremark'}]}"
      ]
     },
     "execution_count": 13,
     "metadata": {},
     "output_type": "execute_result"
    }
   ],
   "source": [
    "best_developer_year(1970)"
   ]
  },
  {
   "cell_type": "markdown",
   "metadata": {},
   "source": [
    "5. def developer_reviews_analysis( desarrolladora ): Según el desarrollador, se devuelve un diccionario con el nombre del desarrollador como llave y una lista con la cantidad total de registros de reseñas de usuarios que se encuentren categorizados con un análisis de sentimiento como valor positivo o negativo."
   ]
  },
  {
   "cell_type": "code",
   "execution_count": 17,
   "metadata": {},
   "outputs": [],
   "source": [
    "def developer_reviews_analysis(developer):\n",
    "    # Filtra el df para obtener las filas segun el desarrollador\n",
    "    developer_data = df_developer_reviews_analysis[df_developer_reviews_analysis['developer'] == developer]\n",
    "\n",
    "    if developer_data.empty:\n",
    "        return None\n",
    "\n",
    "    # Se extrae los valores positivos y negativos\n",
    "    total_positive = int(developer_data['Positive'].sum())\n",
    "    total_negative = int(developer_data['Negative'].sum())\n",
    "\n",
    "    return {developer: ['Negative = '+ str(total_negative), 'Positive = '+ str(total_positive)]}"
   ]
  },
  {
   "cell_type": "code",
   "execution_count": 18,
   "metadata": {},
   "outputs": [
    {
     "data": {
      "text/plain": [
       "{'Unknown': ['Negative = 283', 'Positive = 1063']}"
      ]
     },
     "execution_count": 18,
     "metadata": {},
     "output_type": "execute_result"
    }
   ],
   "source": [
    "developer_reviews_analysis('Unknown')"
   ]
  },
  {
   "cell_type": "markdown",
   "metadata": {},
   "source": [
    "6. def recomendacion_juego( id de producto ): Ingresando el id de producto, recibe una lista con 5 juegos recomendados similares al ingresado."
   ]
  },
  {
   "cell_type": "code",
   "execution_count": 19,
   "metadata": {},
   "outputs": [],
   "source": [
    "def recomendacion_juego(item_id):\n",
    "    # Filtra el df para obtener las filas segun el desarrollador\n",
    "    recomendacion_item = df_recomendacion_juego[df_recomendacion_juego['item_id'] == item_id]\n",
    "\n",
    "    if recomendacion_item.empty:\n",
    "        return None\n",
    "\n",
    "    # Se extrae los nombres de los desarrolladores en el top 3 para ese año\n",
    "    r_1 = recomendacion_item['Recommend_1'].values[0]\n",
    "    r_2 = recomendacion_item['Recommend_2'].values[0]\n",
    "    r_3 = recomendacion_item['Recommend_3'].values[0]\n",
    "    r_4 = recomendacion_item['Recommend_4'].values[0]\n",
    "    r_5 = recomendacion_item['Recommend_5'].values[0]\n",
    "\n",
    "    recomends = [{'Recomendacion 1': r_1}, {'Recomendacion 2': r_2}, {'Recomendacion 3': r_3}, {'Recomendacion 4': r_4}, {'Recomendacion 5': r_5}]\n",
    "\n",
    "    return {'Juegos similares a ' + str(item_id): recomends}"
   ]
  },
  {
   "cell_type": "code",
   "execution_count": 21,
   "metadata": {},
   "outputs": [
    {
     "data": {
      "text/plain": [
       "{'Juegos similares a 50': [{'Recomendacion 1': 331600},\n",
       "  {'Recomendacion 2': 214630},\n",
       "  {'Recomendacion 3': 30},\n",
       "  {'Recomendacion 4': 16720},\n",
       "  {'Recomendacion 5': 6850}]}"
      ]
     },
     "execution_count": 21,
     "metadata": {},
     "output_type": "execute_result"
    }
   ],
   "source": [
    "recomendacion_juego(50)"
   ]
  },
  {
   "cell_type": "markdown",
   "metadata": {},
   "source": [
    "7. def recomendacion_usuario( id de usuario ): Ingresando el id de un usuario, recibe una lista con 5 juegos recomendados para dicho usuario."
   ]
  },
  {
   "cell_type": "code",
   "execution_count": 62,
   "metadata": {},
   "outputs": [],
   "source": [
    "def recomendacion_usuario(user_id):\n",
    "\n",
    "    # Se comprueba si existe el usuario\n",
    "    if user_id not in pivot_norm.columns:\n",
    "        return('Sin datos para el usuario: {}'.format(user_id))\n",
    "    \n",
    "    #Se obtiene los usuarios mas parecidos\n",
    "    users = df_recomendacion_usuario.sort_values(by=user_id, ascending=False).index[1:11]\n",
    "    \n",
    "    mejores_coincidencias = []\n",
    "    comunes = {}\n",
    "    \n",
    "    #Para cada usuario similar, encuentra el juego mejor calificado y lo agrega a la lista 'mejores_coincidencias'\n",
    "    for i in users:\n",
    "        max_score = pivot_norm.loc[:, i].max()\n",
    "        mejores_coincidencias.append(pivot_norm[pivot_norm.loc[:, i]==max_score].index.tolist())\n",
    "    \n",
    "    #Se cuenta las recomendaciones\n",
    "    for i in range(len(mejores_coincidencias)):\n",
    "        for j in mejores_coincidencias[i]:\n",
    "            if j in comunes:\n",
    "                comunes[j] += 1\n",
    "            else:\n",
    "                comunes[j] = 1\n",
    "    \n",
    "    #Se ordena los juegos por la frecuencia de recomendacion\n",
    "    sorted_list = sorted(comunes.items(), key=operator.itemgetter(1), reverse=True)\n",
    "    \n",
    "    # Devuelve los 5 juegos más recomendados\n",
    "    return {'Juegos que le pueden interesar a ' + str(user_id): sorted_list[:5]}"
   ]
  },
  {
   "cell_type": "code",
   "execution_count": 63,
   "metadata": {},
   "outputs": [
    {
     "data": {
      "text/plain": [
       "{'Juegos que le pueden interesar a -2SV-vuLB-Kg': [('Team Fortress 2', 10),\n",
       "  ('Counter-Strike: Global Offensive', 7),\n",
       "  ('Killing Floor', 1),\n",
       "  ('Torchlight', 1),\n",
       "  ('Grand Theft Auto V', 1)]}"
      ]
     },
     "execution_count": 63,
     "metadata": {},
     "output_type": "execute_result"
    }
   ],
   "source": [
    "recomendacion_usuario('-2SV-vuLB-Kg')"
   ]
  },
  {
   "cell_type": "code",
   "execution_count": null,
   "metadata": {},
   "outputs": [],
   "source": []
  }
 ],
 "metadata": {
  "kernelspec": {
   "display_name": "Python 3",
   "language": "python",
   "name": "python3"
  },
  "language_info": {
   "codemirror_mode": {
    "name": "ipython",
    "version": 3
   },
   "file_extension": ".py",
   "mimetype": "text/x-python",
   "name": "python",
   "nbconvert_exporter": "python",
   "pygments_lexer": "ipython3",
   "version": "3.10.0rc2"
  }
 },
 "nbformat": 4,
 "nbformat_minor": 2
}
